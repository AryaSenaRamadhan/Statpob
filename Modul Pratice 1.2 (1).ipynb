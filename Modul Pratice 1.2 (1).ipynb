{
 "cells": [
  {
   "cell_type": "code",
   "execution_count": 3,
   "id": "7ef99a63",
   "metadata": {},
   "outputs": [
    {
     "name": "stdout",
     "output_type": "stream",
     "text": [
      "Mean: 13.2\n",
      "Median: 13.0\n",
      "Range: 10\n",
      "Variance: 9.16\n",
      "Standard Deviation: 3.026549190084311\n",
      "Interquartile Range (IQR): 5\n"
     ]
    }
   ],
   "source": [
    "data = [19, 10, 10, 12, 13, 15, 14, 13, 9, 17]\n",
    "\n",
    "mean = sum(data) / len(data)\n",
    "print(\"Mean:\", mean)\n",
    "\n",
    "sorted_data = sorted(data)\n",
    "h = len(sorted_data)\n",
    "median = (sorted_data[n//2] + sorted_data[(n-1)//2]) / 2\n",
    "print(\"Median:\", median)\n",
    "\n",
    "range_data = max(data) - min(data)\n",
    "print(\"Range:\", range_data)\n",
    "\n",
    "variance = sum((x - mean) ** 2 for x in data) / len(data)\n",
    "std_deviation = variance ** 0.5\n",
    "print(\"Variance:\", variance)\n",
    "print(\"Standard Deviation:\", std_deviation)\n",
    "\n",
    "a1 = sorted_data[int(h*0.25)]\n",
    "a3 = sorted_data[int(h*0.75)]\n",
    "iqr = a3 - a1\n",
    "print(\"Interquartile Range (IQR):\", iqr)"
   ]
  },
  {
   "cell_type": "code",
   "execution_count": null,
   "id": "1488b865",
   "metadata": {},
   "outputs": [],
   "source": []
  },
  {
   "cell_type": "code",
   "execution_count": null,
   "id": "05f0bd4f",
   "metadata": {},
   "outputs": [],
   "source": []
  }
 ],
 "metadata": {
  "kernelspec": {
   "display_name": "Python 3 (ipykernel)",
   "language": "python",
   "name": "python3"
  },
  "language_info": {
   "codemirror_mode": {
    "name": "ipython",
    "version": 3
   },
   "file_extension": ".py",
   "mimetype": "text/x-python",
   "name": "python",
   "nbconvert_exporter": "python",
   "pygments_lexer": "ipython3",
   "version": "3.11.5"
  }
 },
 "nbformat": 4,
 "nbformat_minor": 5
}
