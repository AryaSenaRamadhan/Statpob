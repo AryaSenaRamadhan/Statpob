{
 "cells": [
  {
   "cell_type": "code",
   "execution_count": 3,
   "id": "1dfb7d00",
   "metadata": {},
   "outputs": [
    {
     "name": "stdout",
     "output_type": "stream",
     "text": [
      "Mean Tinggi: 180.0\n",
      "Median Tinggi: 180.0\n",
      "Range Tinggi: 30\n",
      "Variance Tinggi: 100.0\n",
      "Standard Deviation Tinggi: 10.0\n",
      "Interquartile Range (IQR) Tinggi: 20\n"
     ]
    }
   ],
   "source": [
    "tinggi_pemain = [180, 185, 175, 190, 170, 195, 165]\n",
    "\n",
    "\n",
    "mean_tinggi = sum(tinggi_pemain) / len(tinggi_pemain)\n",
    "print(\"Mean Tinggi:\", mean_tinggi)\n",
    "\n",
    "sorted_tinggi = sorted(tinggi_pemain)\n",
    "n_tinggi = len(sorted_tinggi)\n",
    "median_tinggi = (sorted_tinggi[n_tinggi//2] + sorted_tinggi[(n_tinggi-1)//2]) / 2\n",
    "print(\"Median Tinggi:\", median_tinggi)\n",
    "\n",
    "range_tinggi = max(tinggi_pemain) - min(tinggi_pemain)\n",
    "print(\"Range Tinggi:\", range_tinggi)\n",
    "\n",
    "variance_tinggi = sum((x - mean_tinggi) ** 2 for x in tinggi_pemain) / len(tinggi_pemain)\n",
    "std_deviation_tinggi = variance_tinggi ** 0.5\n",
    "print(\"Variance Tinggi:\", variance_tinggi)\n",
    "print(\"Standard Deviation Tinggi:\", std_deviation_tinggi)\n",
    "\n",
    "a1_tinggi = sorted_tinggi[int(n_tinggi*0.25)]\n",
    "a3_tinggi = sorted_tinggi[int(n_tinggi*0.75)]\n",
    "iqr_tinggi = a3_tinggi - a1_tinggi\n",
    "print(\"Interquartile Range (IQR) Tinggi:\", iqr_tinggi)"
   ]
  },
  {
   "cell_type": "code",
   "execution_count": null,
   "id": "ef2546c5",
   "metadata": {},
   "outputs": [],
   "source": []
  }
 ],
 "metadata": {
  "kernelspec": {
   "display_name": "Python 3 (ipykernel)",
   "language": "python",
   "name": "python3"
  },
  "language_info": {
   "codemirror_mode": {
    "name": "ipython",
    "version": 3
   },
   "file_extension": ".py",
   "mimetype": "text/x-python",
   "name": "python",
   "nbconvert_exporter": "python",
   "pygments_lexer": "ipython3",
   "version": "3.11.5"
  }
 },
 "nbformat": 4,
 "nbformat_minor": 5
}
