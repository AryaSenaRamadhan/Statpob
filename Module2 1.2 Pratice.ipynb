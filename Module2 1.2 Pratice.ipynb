def calculate_range(data):
    tinggi_badan = max (data)
    print(f"Tinggi badan tertinggi: {badan_tertinggi}")

    tinggi_terendah  = min(data)
    print(f"Tinggi badan terendah: {badan_terendah}")

    data_range = max(data) - min(data)
    print(f"\n")
    print(f"Range: {badan_tertinggi} - {badan_terendah = {data range}}")

    return data_range

data = [180, 185, 175, 190, 170, 195, 165]
print(f"Data: {data}")

data_range = calculate_range(data)

